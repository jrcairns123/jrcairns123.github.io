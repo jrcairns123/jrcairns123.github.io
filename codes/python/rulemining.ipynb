{
 "cells": [
  {
   "cell_type": "code",
   "execution_count": 1,
   "metadata": {},
   "outputs": [],
   "source": [
    "import pandas as pd\n",
    "import numpy as np\n",
    "from collections import defaultdict\n",
    "from itertools import combinations\n",
    "import csv"
   ]
  },
  {
   "cell_type": "code",
   "execution_count": 2,
   "metadata": {},
   "outputs": [],
   "source": [
    "def processData(file):\n",
    "    # read csv file\n",
    "    df = pd.read_csv(file, header=None, index_col=0)\n",
    "    \n",
    "    # filter based on queueid and subset columns from the 7th index to the last. \n",
    "    # index 0-6 includes matchId, gameCreation, gameMode, gameType, gameVersion, mapId, queueId\n",
    "    #\"queueId\": 400,\n",
    "    #\"map\": \"Summoner's Rift\",\n",
    "    #\"description\": \"5v5 Draft Pick games\",\n",
    "    \n",
    "    #\"queueId\": 420,\n",
    "    #\"map\": \"Summoner's Rift\",\n",
    "    #\"description\": \"5v5 Ranked Solo games\",\n",
    "    \n",
    "    #\"queueId\": 430,\n",
    "    #\"map\": \"Summoner's Rift\",\n",
    "    #\"description\": \"5v5 Blind Pick games\",\n",
    "    \n",
    "    #\"queueId\": 440,\n",
    "    #\"map\": \"Summoner's Rift\",\n",
    "    #\"description\": \"5v5 Ranked Flex games\",\n",
    "    df_filtered = df[(df[7]==400) | (df[7]==420) | (df[7]==430) | (df[7]==440)].iloc[:,7:]\n",
    "    \n",
    "    ## take every third column starting from the first index, referring to the champ names at the respective lane\n",
    "    ## so column at index 1 is top lane champion, column at index 3 is jungle lane champion, and so on...\n",
    "    ## .columns after filtering (df_filtered[df_filtered.columns[1::3]]) \n",
    "    ## is to take all column indices for the respective lanes and retrieve an Int64Index list\n",
    "    ## .union([22,37]) is to add column indices 22 and 37 to this index list in its appropriate element position\n",
    "    ## the way that the raw data is structured is as followed:\n",
    "    ## puuid, champName, win (bool true or false) for each player\n",
    "    ## since all players have a respective win column \n",
    "    ## and players 1 - 5 are on the same team whereas players 6-10 are on the other team\n",
    "    ## column indice 22 refers to the 5th player's win column whereas\n",
    "    ## indice 37 refers to the 10th player's win column\n",
    "    ## i took column 22 to be the win column for team 1\n",
    "    ## and column 37 to be the win column for team 2\n",
    "    x = df_filtered[df_filtered.columns[1::3]].columns.union([22,37])\n",
    "    \n",
    "    # create list of dataframes the first dataframe is team 1 and the second dataframe is team 2\n",
    "    toStack = [df_filtered[x].iloc[:,:6],df_filtered[x].iloc[:,6:]]\n",
    "    \n",
    "    # create list of columns since concat function requires same column names\n",
    "    columnNames = [\"Top\",\"Jungle\",\"Middle\",\"Bot\",\"Support\",\"Win\"]\n",
    "    for i in toStack:\n",
    "        i.columns=columnNames\n",
    "        \n",
    "    # concat stacks the dataframes on top of each other    \n",
    "    df = pd.concat(toStack).reset_index(drop=True)\n",
    "    \n",
    "    # change boolean datatype to int\n",
    "    df['Win'] = df['Win'].astype(int)\n",
    "    return df"
   ]
  },
  {
   "cell_type": "code",
   "execution_count": 3,
   "metadata": {},
   "outputs": [],
   "source": [
    "## put path file below\n",
    "## IMPORTANT:\n",
    "## Create two np arrays: one with without win column and one with.\n",
    "x = processData(\"data/matchdata_eun1.csv\")\n",
    "x_1 = x.drop(columns=['Win']).to_numpy()\n",
    "x_2 = x.to_numpy() "
   ]
  },
  {
   "cell_type": "code",
   "execution_count": 4,
   "metadata": {},
   "outputs": [
    {
     "data": {
      "text/html": [
       "<div>\n",
       "<style scoped>\n",
       "    .dataframe tbody tr th:only-of-type {\n",
       "        vertical-align: middle;\n",
       "    }\n",
       "\n",
       "    .dataframe tbody tr th {\n",
       "        vertical-align: top;\n",
       "    }\n",
       "\n",
       "    .dataframe thead th {\n",
       "        text-align: right;\n",
       "    }\n",
       "</style>\n",
       "<table border=\"1\" class=\"dataframe\">\n",
       "  <thead>\n",
       "    <tr style=\"text-align: right;\">\n",
       "      <th></th>\n",
       "      <th>Top</th>\n",
       "      <th>Jungle</th>\n",
       "      <th>Middle</th>\n",
       "      <th>Bot</th>\n",
       "      <th>Support</th>\n",
       "      <th>Win</th>\n",
       "    </tr>\n",
       "  </thead>\n",
       "  <tbody>\n",
       "    <tr>\n",
       "      <th>0</th>\n",
       "      <td>Darius</td>\n",
       "      <td>Viego</td>\n",
       "      <td>Katarina</td>\n",
       "      <td>Kaisa</td>\n",
       "      <td>Thresh</td>\n",
       "      <td>1</td>\n",
       "    </tr>\n",
       "    <tr>\n",
       "      <th>1</th>\n",
       "      <td>Diana</td>\n",
       "      <td>Kindred</td>\n",
       "      <td>Yone</td>\n",
       "      <td>Ashe</td>\n",
       "      <td>Yuumi</td>\n",
       "      <td>0</td>\n",
       "    </tr>\n",
       "    <tr>\n",
       "      <th>2</th>\n",
       "      <td>Jayce</td>\n",
       "      <td>Olaf</td>\n",
       "      <td>Sylas</td>\n",
       "      <td>Samira</td>\n",
       "      <td>Yuumi</td>\n",
       "      <td>1</td>\n",
       "    </tr>\n",
       "    <tr>\n",
       "      <th>3</th>\n",
       "      <td>Volibear</td>\n",
       "      <td>Warwick</td>\n",
       "      <td>Khazix</td>\n",
       "      <td>Zed</td>\n",
       "      <td>Yasuo</td>\n",
       "      <td>1</td>\n",
       "    </tr>\n",
       "    <tr>\n",
       "      <th>4</th>\n",
       "      <td>Fiora</td>\n",
       "      <td>Kayn</td>\n",
       "      <td>Yasuo</td>\n",
       "      <td>Kaisa</td>\n",
       "      <td>Brand</td>\n",
       "      <td>0</td>\n",
       "    </tr>\n",
       "    <tr>\n",
       "      <th>5</th>\n",
       "      <td>Jayce</td>\n",
       "      <td>Warwick</td>\n",
       "      <td>Qiyana</td>\n",
       "      <td>Xayah</td>\n",
       "      <td>Rakan</td>\n",
       "      <td>0</td>\n",
       "    </tr>\n",
       "    <tr>\n",
       "      <th>6</th>\n",
       "      <td>Nasus</td>\n",
       "      <td>Viego</td>\n",
       "      <td>Diana</td>\n",
       "      <td>Samira</td>\n",
       "      <td>Seraphine</td>\n",
       "      <td>1</td>\n",
       "    </tr>\n",
       "    <tr>\n",
       "      <th>7</th>\n",
       "      <td>Irelia</td>\n",
       "      <td>Zed</td>\n",
       "      <td>Lissandra</td>\n",
       "      <td>Aphelios</td>\n",
       "      <td>Morgana</td>\n",
       "      <td>1</td>\n",
       "    </tr>\n",
       "    <tr>\n",
       "      <th>8</th>\n",
       "      <td>Malphite</td>\n",
       "      <td>Graves</td>\n",
       "      <td>Lux</td>\n",
       "      <td>Jhin</td>\n",
       "      <td>Soraka</td>\n",
       "      <td>1</td>\n",
       "    </tr>\n",
       "    <tr>\n",
       "      <th>9</th>\n",
       "      <td>LeeSin</td>\n",
       "      <td>Warwick</td>\n",
       "      <td>Veigar</td>\n",
       "      <td>Tristana</td>\n",
       "      <td>Pyke</td>\n",
       "      <td>0</td>\n",
       "    </tr>\n",
       "  </tbody>\n",
       "</table>\n",
       "</div>"
      ],
      "text/plain": [
       "        Top   Jungle     Middle       Bot    Support  Win\n",
       "0    Darius    Viego   Katarina     Kaisa     Thresh    1\n",
       "1     Diana  Kindred       Yone      Ashe      Yuumi    0\n",
       "2     Jayce     Olaf      Sylas    Samira      Yuumi    1\n",
       "3  Volibear  Warwick     Khazix       Zed      Yasuo    1\n",
       "4     Fiora     Kayn      Yasuo     Kaisa      Brand    0\n",
       "5     Jayce  Warwick     Qiyana     Xayah      Rakan    0\n",
       "6     Nasus    Viego      Diana    Samira  Seraphine    1\n",
       "7    Irelia      Zed  Lissandra  Aphelios    Morgana    1\n",
       "8  Malphite   Graves        Lux      Jhin     Soraka    1\n",
       "9    LeeSin  Warwick     Veigar  Tristana       Pyke    0"
      ]
     },
     "execution_count": 4,
     "metadata": {},
     "output_type": "execute_result"
    }
   ],
   "source": [
    "x.head(10)"
   ]
  },
  {
   "cell_type": "code",
   "execution_count": 5,
   "metadata": {},
   "outputs": [
    {
     "data": {
      "text/plain": [
       "array([['Darius', 'Viego', 'Katarina', 'Kaisa', 'Thresh'],\n",
       "       ['Diana', 'Kindred', 'Yone', 'Ashe', 'Yuumi'],\n",
       "       ['Jayce', 'Olaf', 'Sylas', 'Samira', 'Yuumi'],\n",
       "       ...,\n",
       "       ['Akshan', 'Khazix', 'Lux', 'Vayne', 'Blitzcrank'],\n",
       "       ['Katarina', 'Amumu', 'Viego', 'Sivir', 'Yuumi'],\n",
       "       ['Sett', 'Kayn', 'Sylas', 'Samira', 'Senna']], dtype=object)"
      ]
     },
     "execution_count": 5,
     "metadata": {},
     "output_type": "execute_result"
    }
   ],
   "source": [
    "x_1"
   ]
  },
  {
   "cell_type": "code",
   "execution_count": 6,
   "metadata": {},
   "outputs": [
    {
     "data": {
      "text/plain": [
       "array([['Darius', 'Viego', 'Katarina', 'Kaisa', 'Thresh', 1],\n",
       "       ['Diana', 'Kindred', 'Yone', 'Ashe', 'Yuumi', 0],\n",
       "       ['Jayce', 'Olaf', 'Sylas', 'Samira', 'Yuumi', 1],\n",
       "       ...,\n",
       "       ['Akshan', 'Khazix', 'Lux', 'Vayne', 'Blitzcrank', 0],\n",
       "       ['Katarina', 'Amumu', 'Viego', 'Sivir', 'Yuumi', 1],\n",
       "       ['Sett', 'Kayn', 'Sylas', 'Samira', 'Senna', 0]], dtype=object)"
      ]
     },
     "execution_count": 6,
     "metadata": {},
     "output_type": "execute_result"
    }
   ],
   "source": [
    "x_2"
   ]
  },
  {
   "cell_type": "code",
   "execution_count": 7,
   "metadata": {},
   "outputs": [],
   "source": [
    "# update dictionary that counts the instances of champions\n",
    "def update_champ_counts(champ_counts, teams):\n",
    "    for a in teams:\n",
    "        champ_counts[a] += 1"
   ]
  },
  {
   "cell_type": "code",
   "execution_count": 8,
   "metadata": {},
   "outputs": [],
   "source": [
    "# update dictionary that counts the instances of champion pairs\n",
    "def update_champ_pair_counts (champ_pair_counts, teams):\n",
    "    for (a, b) in combinations (teams, 2):\n",
    "        champ_pair_counts[(a, b)] += 1\n",
    "        champ_pair_counts[(b, a)] += 1"
   ]
  },
  {
   "cell_type": "code",
   "execution_count": 9,
   "metadata": {},
   "outputs": [],
   "source": [
    "def update_champ_pair_wins(champ_pair_wins, teams):\n",
    "    for (a, b) in combinations (teams, 2):\n",
    "        if teams[5] == 1:\n",
    "            champ_pair_wins[(a, b)] += 1\n",
    "            champ_pair_wins[(b, a)] += 1"
   ]
  },
  {
   "cell_type": "code",
   "execution_count": 10,
   "metadata": {},
   "outputs": [],
   "source": [
    "## calculate confidence levels of champ pairs and filter based on threshold \n",
    "## measures how likely item B is selected when A is selected (conditional probability)\n",
    "## important to know logically that a => b != b => a\n",
    "## a => b and b => a are two distinct logical pairs\n",
    "## for example:\n",
    "## the confidence level of if a player n picks Rakan, then player n+C picks Xayah (a => b)\n",
    "## is not the same as if player n picks Xayah, then player n+C picks Rakan (b => a)\n",
    "## also note:\n",
    "## a => b == Pr(B|A) = Pr(A and B)/ Pr(A); notation is different\n",
    "\n",
    "## lifts measures dependency of variables\n",
    "## if lift > 1, there is a positive correlation between the variable\n",
    "## if lift = 1, no dependence\n",
    "## if lift < 1, there is a negative correlation\n",
    "## for our intents and purposes, we are only looking for lifts that are greater than 1\n",
    "## lift{a => b} = conf(A => b) / Pr(B) = Pr(A and B) / (Pr(A) * Pr(B))\n",
    "def filter_rules(champ_pair_counts, champ_counts, conf_threshold, size):\n",
    "    rules = {}\n",
    "    lifts = {}\n",
    "    for (a, b) in champ_pair_counts:\n",
    "        conf_ab = champ_pair_counts[(a, b)] / champ_counts[a] * 100\n",
    "        conf_ba = champ_pair_counts[(a, b)] / champ_counts[b] * 100\n",
    "        lift_ab = (champ_pair_counts[(a, b)]/size) / (champ_counts[a]/size *champ_counts[b]/size)\n",
    "        if conf_ab >= conf_threshold:\n",
    "            rules[(a, b)] = conf_ab\n",
    "            rules[(b, a)] = conf_ba\n",
    "            if lift_ab > 1:\n",
    "                lifts[(a,b)] = lift_ab\n",
    "                lifts[(b,a)] = lift_ab\n",
    "    return rules, lifts"
   ]
  },
  {
   "cell_type": "code",
   "execution_count": 11,
   "metadata": {},
   "outputs": [],
   "source": [
    "## Measures how frequently an champ pairs are selected \n",
    "\n",
    "def filter_supports(champ_pair_counts, allTeams, sup_threshold):\n",
    "    supports = {}\n",
    "    for k,v in champ_pair_counts.items():\n",
    "        #toKey = tuple(sorted(list(k)))\n",
    "        supp_ab = v/len(allTeams)*100\n",
    "        if supp_ab >= sup_threshold:\n",
    "            supports[k] = supp_ab\n",
    "    return supports"
   ]
  },
  {
   "cell_type": "code",
   "execution_count": 12,
   "metadata": {},
   "outputs": [],
   "source": [
    "# function calls all previous functions and inits empty dicts\n",
    "def mine_rules(allTeams, withWins, sup_threshold, conf_threshold):\n",
    "    champ_pair_counts = defaultdict(int)\n",
    "    champ_counts = defaultdict(int)\n",
    "    champ_pair_wins = defaultdict(int)\n",
    "    size = len(allTeams)\n",
    "    \n",
    "    ## iterate through np arrays without win element to collect champ pair counts and individual counts\n",
    "    ## and populate dictionary that holds the champ/pairs as keys whereas the counts are value\n",
    "    for teams in allTeams:\n",
    "        update_champ_pair_counts(champ_pair_counts, teams)\n",
    "        update_champ_counts(champ_counts, teams)\n",
    "    \n",
    "    ## iterate throughout np arrays WITH win element present\n",
    "    for teams in withWins:\n",
    "        update_champ_pair_wins(champ_pair_wins, teams)\n",
    "    \n",
    "    rules, lifts = filter_rules(champ_pair_counts, champ_counts, conf_threshold,size)\n",
    "    supports = filter_supports(champ_pair_counts, allTeams, sup_threshold)\n",
    "    \n",
    "    return supports, rules, lifts,champ_pair_counts, champ_pair_wins"
   ]
  },
  {
   "cell_type": "code",
   "execution_count": 13,
   "metadata": {},
   "outputs": [],
   "source": [
    "# filter using support threshold of 0.3% and confidence level of 5%\n",
    "z1,z2,z3, z4, z5 = mine_rules(x_1,x_2,0.1,5)"
   ]
  },
  {
   "cell_type": "code",
   "execution_count": 14,
   "metadata": {},
   "outputs": [],
   "source": [
    "def filterResults(z1,z2,z3,z4,z5):\n",
    "    \n",
    "    ## since we are using the confidence levels as edge values, we have to filter the confidence dictionary\n",
    "    ## using results from the support and lift dictionaries\n",
    "    \n",
    "    # first, filter keys in confidence dictionary using support\n",
    "    filter_conf_by_supp = dict((k,v) for k,v in z2.items() if k in z1.keys())\n",
    "    \n",
    "    # second, filter keys in confidence dictionary that was already filtered by supports using lifts\n",
    "    filter_conf_supp_by_lift = dict((k,v) for k,v in filter_conf_by_supp.items() if k in z3.keys())\n",
    "    \n",
    "    # calculate pairwise win rates\n",
    "    champ_win_rates = dict(((key, z5[key]/z4[key]) for key in z4.keys()))\n",
    "    \n",
    "    # filter pairwise win rates by threshold of 0.5\n",
    "    ## for future implementation, i will set the win rates as an argument \n",
    "    filtered_win_rates = dict(((k,v) for k,v in champ_win_rates.items() if v >0.5))\n",
    "    \n",
    "    # returns second order filtered dictionary using the filtered pairwise win rates\n",
    "    return dict(((k,v) for k,v in filter_conf_supp_by_lift.items() if k in filtered_win_rates.keys()))"
   ]
  },
  {
   "cell_type": "code",
   "execution_count": 15,
   "metadata": {},
   "outputs": [],
   "source": [
    "finalDict = filterResults(z1,z2,z3,z4,z5)"
   ]
  },
  {
   "cell_type": "code",
   "execution_count": 16,
   "metadata": {},
   "outputs": [
    {
     "data": {
      "text/plain": [
       "[(('Diana', 'Ashe'), 5.734767025089606),\n",
       " (('Ashe', 'Diana'), 4.146705411136417),\n",
       " (('Warwick', 'Yasuo'), 13.464646464646465),\n",
       " (('Yasuo', 'Warwick'), 4.2281219272369714),\n",
       " (('Xayah', 'Rakan'), 20.92150170648464),\n",
       " (('Rakan', 'Xayah'), 24.969450101832994),\n",
       " (('Zed', 'Morgana'), 7.318812750315466),\n",
       " (('Morgana', 'Zed'), 7.935752528256989),\n",
       " (('Graves', 'Jhin'), 9.850610449685297),\n",
       " (('Jhin', 'Graves'), 5.633863902502494)]"
      ]
     },
     "execution_count": 16,
     "metadata": {},
     "output_type": "execute_result"
    }
   ],
   "source": [
    "list(finalDict.items())[:10]"
   ]
  },
  {
   "cell_type": "code",
   "execution_count": 17,
   "metadata": {},
   "outputs": [
    {
     "data": {
      "text/plain": [
       "936"
      ]
     },
     "execution_count": 17,
     "metadata": {},
     "output_type": "execute_result"
    }
   ],
   "source": [
    "len(finalDict)"
   ]
  },
  {
   "cell_type": "code",
   "execution_count": 18,
   "metadata": {},
   "outputs": [],
   "source": [
    "finalList = []\n",
    "for item, values in finalDict.items():\n",
    "    finalList.append([item[0],item[1],values])"
   ]
  },
  {
   "cell_type": "code",
   "execution_count": 19,
   "metadata": {},
   "outputs": [],
   "source": [
    "headers = ['source', 'target', 'value']\n",
    "with open(\"out.csv\", \"w\", newline=\"\") as f:\n",
    "    writer = csv.writer(f)\n",
    "    writer.writerow(headers)\n",
    "    writer.writerows(finalList)"
   ]
  },
  {
   "cell_type": "code",
   "execution_count": 20,
   "metadata": {},
   "outputs": [
    {
     "data": {
      "text/plain": [
       "defaultdict(int,\n",
       "            {'Diana': 6,\n",
       "             'Ashe': 54,\n",
       "             'Warwick': 26,\n",
       "             'Yasuo': 30,\n",
       "             'Xayah': 8,\n",
       "             'Rakan': 4,\n",
       "             'Zed': 18,\n",
       "             'Morgana': 26,\n",
       "             'Graves': 24,\n",
       "             'Jhin': 74,\n",
       "             'Lux': 48,\n",
       "             'Soraka': 16,\n",
       "             'Tristana': 28,\n",
       "             'Kayn': 32,\n",
       "             'Vex': 32,\n",
       "             'Vayne': 46,\n",
       "             'Nocturne': 22,\n",
       "             'Maokai': 2,\n",
       "             'MissFortune': 84,\n",
       "             'Aatrox': 4,\n",
       "             'Xerath': 10,\n",
       "             'Braum': 10,\n",
       "             'Lucian': 18,\n",
       "             'Malzahar': 18,\n",
       "             'Viego': 14,\n",
       "             'Nunu': 14,\n",
       "             'Ezreal': 38,\n",
       "             'Zyra': 20,\n",
       "             'Lillia': 20,\n",
       "             'Thresh': 8,\n",
       "             'Mordekaiser': 12,\n",
       "             'MasterYi': 46,\n",
       "             'Varus': 4,\n",
       "             'Malphite': 8,\n",
       "             'Shen': 10,\n",
       "             'Qiyana': 2,\n",
       "             'Yuumi': 30,\n",
       "             'Blitzcrank': 16,\n",
       "             'Nasus': 18,\n",
       "             'Brand': 34,\n",
       "             'Sivir': 16,\n",
       "             'Amumu': 34,\n",
       "             'Alistar': 4,\n",
       "             'Garen': 18,\n",
       "             'Kaisa': 8,\n",
       "             'Karthus': 2,\n",
       "             'Nautilus': 16,\n",
       "             'Leona': 22,\n",
       "             'Khazix': 68,\n",
       "             'Vladimir': 6,\n",
       "             'Akali': 2,\n",
       "             'Caitlyn': 30,\n",
       "             'Swain': 16,\n",
       "             'Viktor': 2,\n",
       "             'Katarina': 26,\n",
       "             'Draven': 10,\n",
       "             'Samira': 8,\n",
       "             'Trundle': 14,\n",
       "             'Kennen': 6,\n",
       "             'Ekko': 24,\n",
       "             'Sylas': 8,\n",
       "             'Sett': 28,\n",
       "             'Volibear': 4,\n",
       "             'Seraphine': 8,\n",
       "             'Irelia': 18,\n",
       "             'Yone': 26,\n",
       "             'Jax': 6,\n",
       "             'Vi': 14,\n",
       "             'Janna': 4,\n",
       "             'Evelynn': 20,\n",
       "             'TahmKench': 4,\n",
       "             'Chogath': 12,\n",
       "             'XinZhao': 18,\n",
       "             'Teemo': 30,\n",
       "             'DrMundo': 14,\n",
       "             'Pyke': 10,\n",
       "             'Ahri': 14,\n",
       "             'Fizz': 16,\n",
       "             'Nami': 32,\n",
       "             'Rammus': 10,\n",
       "             'Urgot': 14,\n",
       "             'Kayle': 14,\n",
       "             'Camille': 12,\n",
       "             'Kassadin': 12,\n",
       "             'FiddleSticks': 12,\n",
       "             'Tryndamere': 2,\n",
       "             'Jinx': 28,\n",
       "             'Sion': 6,\n",
       "             'Hecarim': 10,\n",
       "             'Cassiopeia': 6,\n",
       "             'Shaco': 8,\n",
       "             'Annie': 10,\n",
       "             'Velkoz': 14,\n",
       "             'Fiora': 4,\n",
       "             'Sona': 16,\n",
       "             'Twitch': 6,\n",
       "             'Lulu': 10,\n",
       "             'Zac': 12,\n",
       "             'Gnar': 4,\n",
       "             'MonkeyKing': 8,\n",
       "             'LeeSin': 6,\n",
       "             'Poppy': 6,\n",
       "             'JarvanIV': 6,\n",
       "             'Renekton': 2,\n",
       "             'Veigar': 6,\n",
       "             'Illaoi': 4,\n",
       "             'Darius': 4,\n",
       "             'Yorick': 6,\n",
       "             'Lissandra': 6,\n",
       "             'Leblanc': 10,\n",
       "             'Neeko': 2,\n",
       "             'Udyr': 2,\n",
       "             'Sejuani': 2,\n",
       "             'Gragas': 4,\n",
       "             'Pantheon': 2,\n",
       "             'Anivia': 2,\n",
       "             'Karma': 6,\n",
       "             'Shyvana': 2,\n",
       "             'Ziggs': 4,\n",
       "             'Jayce': 2,\n",
       "             'Riven': 2,\n",
       "             'Zilean': 2,\n",
       "             'Kindred': 2,\n",
       "             'KogMaw': 2,\n",
       "             'Rell': 4,\n",
       "             'Nidalee': 2,\n",
       "             'Senna': 2,\n",
       "             'Ornn': 2})"
      ]
     },
     "execution_count": 20,
     "metadata": {},
     "output_type": "execute_result"
    }
   ],
   "source": [
    "champCount = defaultdict(int)\n",
    "for item, values in finalDict.items():\n",
    "    champCount[item[0]] += 1\n",
    "    champCount[item[1]] += 1\n",
    "champCount"
   ]
  },
  {
   "cell_type": "code",
   "execution_count": 21,
   "metadata": {},
   "outputs": [
    {
     "data": {
      "text/plain": [
       "128"
      ]
     },
     "execution_count": 21,
     "metadata": {},
     "output_type": "execute_result"
    }
   ],
   "source": [
    "len(champCount)"
   ]
  },
  {
   "cell_type": "code",
   "execution_count": null,
   "metadata": {},
   "outputs": [],
   "source": []
  }
 ],
 "metadata": {
  "kernelspec": {
   "display_name": "Python 3",
   "language": "python",
   "name": "python3"
  },
  "language_info": {
   "codemirror_mode": {
    "name": "ipython",
    "version": 3
   },
   "file_extension": ".py",
   "mimetype": "text/x-python",
   "name": "python",
   "nbconvert_exporter": "python",
   "pygments_lexer": "ipython3",
   "version": "3.8.5"
  }
 },
 "nbformat": 4,
 "nbformat_minor": 4
}
